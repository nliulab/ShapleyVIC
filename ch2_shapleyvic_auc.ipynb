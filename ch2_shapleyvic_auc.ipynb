{
 "cells": [
  {
   "cell_type": "code",
   "execution_count": 1,
   "metadata": {},
   "outputs": [
    {
     "name": "stderr",
     "output_type": "stream",
     "text": [
      "/Library/Frameworks/Python.framework/Versions/3.10/lib/python3.10/site-packages/tqdm/auto.py:22: TqdmWarning: IProgress not found. Please update jupyter and ipywidgets. See https://ipywidgets.readthedocs.io/en/stable/user_install.html\n"
     ]
    },
    {
     "data": {
      "text/html": [
       "<div>\n",
       "<style scoped>\n",
       "    .dataframe tbody tr th:only-of-type {\n",
       "        vertical-align: middle;\n",
       "    }\n",
       "\n",
       "    .dataframe tbody tr th {\n",
       "        vertical-align: top;\n",
       "    }\n",
       "\n",
       "    .dataframe thead th {\n",
       "        text-align: right;\n",
       "    }\n",
       "</style>\n",
       "<table border=\"1\" class=\"dataframe\">\n",
       "  <thead>\n",
       "    <tr style=\"text-align: right;\">\n",
       "      <th></th>\n",
       "      <th>y</th>\n",
       "      <th>age</th>\n",
       "      <th>race</th>\n",
       "      <th>prior</th>\n",
       "      <th>gender</th>\n",
       "      <th>juvenilecrime</th>\n",
       "      <th>currentcharge</th>\n",
       "      <th>train_test</th>\n",
       "    </tr>\n",
       "  </thead>\n",
       "  <tbody>\n",
       "    <tr>\n",
       "      <th>0</th>\n",
       "      <td>0</td>\n",
       "      <td>0</td>\n",
       "      <td>0</td>\n",
       "      <td>1</td>\n",
       "      <td>1</td>\n",
       "      <td>1</td>\n",
       "      <td>0</td>\n",
       "      <td>train</td>\n",
       "    </tr>\n",
       "    <tr>\n",
       "      <th>1</th>\n",
       "      <td>1</td>\n",
       "      <td>0</td>\n",
       "      <td>1</td>\n",
       "      <td>1</td>\n",
       "      <td>1</td>\n",
       "      <td>1</td>\n",
       "      <td>0</td>\n",
       "      <td>train</td>\n",
       "    </tr>\n",
       "    <tr>\n",
       "      <th>2</th>\n",
       "      <td>1</td>\n",
       "      <td>0</td>\n",
       "      <td>1</td>\n",
       "      <td>0</td>\n",
       "      <td>1</td>\n",
       "      <td>0</td>\n",
       "      <td>0</td>\n",
       "      <td>train</td>\n",
       "    </tr>\n",
       "    <tr>\n",
       "      <th>3</th>\n",
       "      <td>0</td>\n",
       "      <td>0</td>\n",
       "      <td>1</td>\n",
       "      <td>0</td>\n",
       "      <td>1</td>\n",
       "      <td>0</td>\n",
       "      <td>0</td>\n",
       "      <td>train</td>\n",
       "    </tr>\n",
       "    <tr>\n",
       "      <th>4</th>\n",
       "      <td>0</td>\n",
       "      <td>0</td>\n",
       "      <td>0</td>\n",
       "      <td>0</td>\n",
       "      <td>1</td>\n",
       "      <td>1</td>\n",
       "      <td>0</td>\n",
       "      <td>train</td>\n",
       "    </tr>\n",
       "    <tr>\n",
       "      <th>5</th>\n",
       "      <td>0</td>\n",
       "      <td>0</td>\n",
       "      <td>0</td>\n",
       "      <td>1</td>\n",
       "      <td>1</td>\n",
       "      <td>1</td>\n",
       "      <td>1</td>\n",
       "      <td>train</td>\n",
       "    </tr>\n",
       "  </tbody>\n",
       "</table>\n",
       "</div>"
      ],
      "text/plain": [
       "   y  age  race  prior  gender  juvenilecrime  currentcharge train_test\n",
       "0  0    0     0      1       1              1              0      train\n",
       "1  1    0     1      1       1              1              0      train\n",
       "2  1    0     1      0       1              0              0      train\n",
       "3  0    0     1      0       1              0              0      train\n",
       "4  0    0     0      0       1              1              0      train\n",
       "5  0    0     0      1       1              1              1      train"
      ]
     },
     "execution_count": 1,
     "metadata": {},
     "output_type": "execute_result"
    }
   ],
   "source": [
    "from ShapleyVIC import df_compas\n",
    "\n",
    "compas = df_compas.load_data()\n",
    "# See data description using the following command:\n",
    "# help(df_compas.load_data)\n",
    "compas.loc[:5]"
   ]
  },
  {
   "cell_type": "code",
   "execution_count": 2,
   "metadata": {},
   "outputs": [],
   "source": [
    "dat_train = compas.loc[compas['train_test']=='train']\n",
    "# Drop the indicator column after using it to split data:\n",
    "dat_train = dat_train.drop(columns=['train_test'])\n",
    "dat_train.reset_index(drop=True, inplace=True)\n",
    "\n",
    "dat_expl = compas.loc[compas['train_test']=='test']\n",
    "dat_expl = dat_expl.drop(columns=['train_test'])\n",
    "dat_expl.reset_index(drop=True, inplace=True)"
   ]
  },
  {
   "cell_type": "code",
   "execution_count": 3,
   "metadata": {},
   "outputs": [
    {
     "data": {
      "text/html": [
       "<table class=\"simpletable\">\n",
       "<tr>\n",
       "         <td></td>            <th>coef</th>     <th>std err</th>      <th>z</th>      <th>P>|z|</th>  <th>[0.025</th>    <th>0.975]</th>  \n",
       "</tr>\n",
       "<tr>\n",
       "  <th>const</th>           <td>    0.4455</td> <td>    0.107</td> <td>    4.160</td> <td> 0.000</td> <td>    0.236</td> <td>    0.655</td>\n",
       "</tr>\n",
       "<tr>\n",
       "  <th>age_1</th>           <td>    1.5001</td> <td>    0.187</td> <td>    8.011</td> <td> 0.000</td> <td>    1.133</td> <td>    1.867</td>\n",
       "</tr>\n",
       "<tr>\n",
       "  <th>race_1</th>          <td>    0.4164</td> <td>    0.053</td> <td>    7.858</td> <td> 0.000</td> <td>    0.313</td> <td>    0.520</td>\n",
       "</tr>\n",
       "<tr>\n",
       "  <th>prior_1</th>         <td>   -0.8543</td> <td>    0.061</td> <td>  -13.984</td> <td> 0.000</td> <td>   -0.974</td> <td>   -0.735</td>\n",
       "</tr>\n",
       "<tr>\n",
       "  <th>gender_1</th>        <td>    0.3835</td> <td>    0.068</td> <td>    5.651</td> <td> 0.000</td> <td>    0.251</td> <td>    0.517</td>\n",
       "</tr>\n",
       "<tr>\n",
       "  <th>juvenilecrime_1</th> <td>   -0.8646</td> <td>    0.084</td> <td>  -10.238</td> <td> 0.000</td> <td>   -1.030</td> <td>   -0.699</td>\n",
       "</tr>\n",
       "<tr>\n",
       "  <th>currentcharge_1</th> <td>   -0.2544</td> <td>    0.056</td> <td>   -4.562</td> <td> 0.000</td> <td>   -0.364</td> <td>   -0.145</td>\n",
       "</tr>\n",
       "</table>"
      ],
      "text/plain": [
       "<class 'statsmodels.iolib.table.SimpleTable'>"
      ]
     },
     "execution_count": 3,
     "metadata": {},
     "output_type": "execute_result"
    }
   ],
   "source": [
    "y_name = 'y'\n",
    "from ShapleyVIC import model\n",
    "model_object = model.models(\n",
    "    x=dat_train.drop(columns=[y_name]), y=dat_train[y_name], \n",
    "    outcome_type=\"binary\", criterion=\"auc\",\n",
    "    x_names_cat=['age','race','prior','gender','juvenilecrime','currentcharge'],\n",
    "    output_dir=\"compas_auc_output\"\n",
    ")\n",
    "# To display the optimal logistic regression trained:\n",
    "model_object.model_optim.summary().tables[1]"
   ]
  },
  {
   "cell_type": "code",
   "execution_count": 4,
   "metadata": {},
   "outputs": [
    {
     "name": "stdout",
     "output_type": "stream",
     "text": [
      "Nearly optimal defined based on auc.\n",
      "\n"
     ]
    },
    {
     "data": {
      "text/plain": [
       "(0.5, 38.125)"
      ]
     },
     "execution_count": 4,
     "metadata": {},
     "output_type": "execute_result"
    }
   ],
   "source": [
    "u1, u2 = model_object.init_hyper_params(m=200)\n",
    "(u1, u2)"
   ]
  },
  {
   "cell_type": "code",
   "execution_count": 5,
   "metadata": {},
   "outputs": [
    {
     "name": "stdout",
     "output_type": "stream",
     "text": [
      "Nearly optimal defined based on auc.\n",
      "\n"
     ]
    },
    {
     "data": {
      "image/png": "[encoded data removed]",
      "text/plain": [
       "<Figure size 640x480 with 1 Axes>"
      ]
     },
     "metadata": {},
     "output_type": "display_data"
    },
    {
     "data": {
      "image/png": "[encoded data removed]",
      "text/plain": [
       "<Figure size 640x480 with 1 Axes>"
      ]
     },
     "metadata": {},
     "output_type": "display_data"
    },
    {
     "data": {
      "text/plain": [
       "(<ggplot: (377870670)>, <ggplot: (377901183)>)"
      ]
     },
     "execution_count": 5,
     "metadata": {},
     "output_type": "execute_result"
    }
   ],
   "source": [
    "model_object.draw_models(u1=u1, u2=u2, m=500, n_final=250, random_state=1234)\n",
    "model_object.models_plot"
   ]
  },
  {
   "cell_type": "code",
   "execution_count": 6,
   "metadata": {},
   "outputs": [
    {
     "name": "stdout",
     "output_type": "stream",
     "text": [
      "Using 7 cores in parallel computing.\n",
      "\n"
     ]
    },
    {
     "name": "stderr",
     "output_type": "stream",
     "text": [
      "ShapleyVIC:   0%|          | 0/250 [00:00<?, ?it/s][Parallel(n_jobs=7)]: Using backend LokyBackend with 7 concurrent workers.\n",
      "[Parallel(n_jobs=7)]: Done  36 tasks      | elapsed:  2.5min\n",
      "[Parallel(n_jobs=7)]: Done 186 tasks      | elapsed: 14.2min\n",
      "\n",
      "100%|██████████| 250/250 [19:23<00:00,  4.65s/it]ed: 19.4min finished"
     ]
    },
    {
     "name": "stdout",
     "output_type": "stream",
     "text": [
      "Program finished in 19.393463365966454 minutes\n"
     ]
    },
    {
     "name": "stderr",
     "output_type": "stream",
     "text": [
      "\n"
     ]
    }
   ],
   "source": [
    "from ShapleyVIC import compute\n",
    "m_svic = compute.compute_shapley_vic(\n",
    "    model_obj=model_object, \n",
    "    x_expl=dat_expl.drop(columns=[y_name]), y_expl=dat_expl[y_name], \n",
    "    n_cores=7, # running on a computer with 8 cores\n",
    "    threshold=0.05\n",
    ")"
   ]
  }
 ],
 "metadata": {
  "kernelspec": {
   "display_name": "Python 3",
   "language": "python",
   "name": "python3"
  },
  "language_info": {
   "codemirror_mode": {
    "name": "ipython",
    "version": 3
   },
   "file_extension": ".py",
   "mimetype": "text/x-python",
   "name": "python",
   "nbconvert_exporter": "python",
   "pygments_lexer": "ipython3",
   "version": "3.10.9"
  },
  "orig_nbformat": 4,
  "vscode": {
   "interpreter": {
    "hash": "aee8b7b246df8f9039afb4144a1f6fd8d2ca17a180786b69acc140d282b71a49"
   }
  }
 },
 "nbformat": 4,
 "nbformat_minor": 2
}
